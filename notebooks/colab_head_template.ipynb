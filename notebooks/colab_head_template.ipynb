{
  "nbformat": 4,
  "nbformat_minor": 0,
  "metadata": {
    "colab": {
      "provenance": [],
      "mount_file_id": "1EaaApR2KTVDeMPhCHifhHpWpF3lqwuNB",
      "authorship_tag": "ABX9TyNxHgzjSVjEuG0DJxc7kigQ",
      "include_colab_link": true
    },
    "kernelspec": {
      "name": "python3",
      "display_name": "Python 3"
    },
    "language_info": {
      "name": "python"
    }
  },
  "cells": [
    {
      "cell_type": "markdown",
      "metadata": {
        "id": "view-in-github",
        "colab_type": "text"
      },
      "source": [
        "<a href=\"https://colab.research.google.com/github/bg4xsd/codespaces_python_env/blob/main/notebooks/colab_head_template.ipynb\" target=\"_parent\"><img src=\"https://colab.research.google.com/assets/colab-badge.svg\" alt=\"Open In Colab\"/></a>"
      ]
    },
    {
      "cell_type": "markdown",
      "source": [
        "# 0. Initialize work environment"
      ],
      "metadata": {
        "id": "pWPg1QuwLMMd"
      }
    },
    {
      "cell_type": "markdown",
      "source": [
        "## For using Google colab only"
      ],
      "metadata": {
        "id": "lqee7HswIM-0"
      }
    },
    {
      "cell_type": "code",
      "execution_count": null,
      "metadata": {
        "colab": {
          "base_uri": "https://localhost:8080/"
        },
        "id": "JEnDtb4jiFl0",
        "outputId": "07ae1b88-242b-417a-bc34-b4b66a140c55"
      },
      "outputs": [
        {
          "output_type": "stream",
          "name": "stdout",
          "text": [
            "Mounted at /content/gdrive\n",
            "/content/gdrive/My Drive/Colab Notebooks\n",
            "mkdir: cannot create directory ‘packages’: File exists\n",
            " colab_head_template.ipynb    \u001b[0m\u001b[01;34mpackages\u001b[0m/\n",
            " colab工作环境设置.ipynb      \u001b[01;34mpydata-book-3rd-edition\u001b[0m/\n",
            " colab路径设置模版.ipynb      \u001b[01;34mSoftware\u001b[0m/\n",
            " \u001b[01;34mdata-science-from-scratch\u001b[0m/   \u001b[01;34mTSA\u001b[0m/\n",
            " \u001b[01;34mhandson-ml2\u001b[0m/                ' 测试colab和github协同工作.ipynb'\n",
            " \u001b[01;34mhandson-ml3\u001b[0m/\n"
          ]
        }
      ],
      "source": [
        "# Prepare some shortlinks for notebooks and pip install\n",
        "\n",
        "import os, sys \n",
        "# mount google drive\n",
        "from google.colab import drive \n",
        "drive.mount('/content/gdrive') \n",
        "\n",
        "# create a sub directory packages under the default notebooks' directory\n",
        "# While repeating excute the code, you will got warning or error message, just ignore.\n",
        "%cd '/content/gdrive/My Drive/Colab Notebooks'\n",
        "%mkdir packages\n",
        "%pwd\n",
        "%ls\n",
        " \n",
        "# you can check the symbolink if existing or not manually.\n",
        "nb_path = '/content/notebooks'  # short symlink\n",
        "os.symlink('/content/gdrive/My Drive/Colab Notebooks', nb_path)\n",
        "sys.path.insert(0, nb_path)  # or append(nb_path)\n",
        "pkgs_path = '/content/packages'  # for packages persistent storage\n",
        "os.symlink('/content/gdrive/My Drive/Colab Notebooks/packages', pkgs_path)\n",
        "sys.path.append(pkgs_path)  # or append(nb_path), Very important for using the missing libs"
      ]
    },
    {
      "cell_type": "markdown",
      "source": [
        "## Using pip to install necessary packages"
      ],
      "metadata": {
        "id": "OdvR9y7tFJ-U"
      }
    },
    {
      "cell_type": "code",
      "source": [
        "# Google colab contains statsmodels, sklearn, tensorflow, pytorh, \n",
        "#!pip list # check the installed packages\n",
        "#!pip install -U -q pyecharts # -U upgrade， -q quiet\n",
        "# \n",
        "# pyecharts, a chart, data visualization lib\n",
        "#!pip install --target=$pkgs_path plotly pyecharts"
      ],
      "metadata": {
        "id": "YDtDMRaeFShb"
      },
      "execution_count": null,
      "outputs": []
    },
    {
      "cell_type": "code",
      "source": [
        "#!pip list"
      ],
      "metadata": {
        "id": "EctZA1UdK_a3"
      },
      "execution_count": null,
      "outputs": []
    },
    {
      "cell_type": "code",
      "source": [
        "# If your homework is composed of several notebooks, you'd better store them in a sub-directory.\n",
        "# So, you may need to change the current working path to the sub-directory for using relative path.\n",
        "# Then, keep and use below codes. \n",
        "# If useless, remove the cell.\n",
        "\n",
        "# import os\n",
        "# import sys\n",
        "\n",
        "# # os.chdir(\"/content/gdrive/My Drive/Colab Notebooks/my-notebooks-group\")\n",
        "# os.chdir('/content/notebooks/my-notebooks-group')\n",
        "# sys.path.append('..')\n",
        "# cwd = os.getcwd()\n",
        "# print(cwd)"
      ],
      "metadata": {
        "id": "ONv_9DDF28tc",
        "colab": {
          "base_uri": "https://localhost:8080/"
        },
        "outputId": "b32aba95-e9a2-49c3-aebb-f87bf65fb054"
      },
      "execution_count": null,
      "outputs": [
        {
          "output_type": "stream",
          "name": "stdout",
          "text": [
            "/content/gdrive/My Drive/Colab Notebooks/pydata-book-3rd-edition\n"
          ]
        }
      ]
    },
    {
      "cell_type": "code",
      "source": [
        "# check the python version\n",
        "# If useless, remove the cell.\n",
        "import sys\n",
        "print(sys.version)"
      ],
      "metadata": {
        "colab": {
          "base_uri": "https://localhost:8080/"
        },
        "id": "gT1DfrdP7wfD",
        "outputId": "1f46964b-e650-4947-a086-8f7337dabdeb"
      },
      "execution_count": null,
      "outputs": [
        {
          "output_type": "stream",
          "name": "stdout",
          "text": [
            "3.10.11 (main, Apr  5 2023, 14:15:10) [GCC 9.4.0]\n"
          ]
        }
      ]
    },
    {
      "cell_type": "code",
      "source": [
        "# check the new installed packages works well\n",
        "# If useless, remove the cell.\n",
        "import pyecharts\n",
        "print(pyecharts.__version__)\n"
      ],
      "metadata": {
        "colab": {
          "base_uri": "https://localhost:8080/"
        },
        "id": "teBT1qf9puJA",
        "outputId": "0039fccf-37d5-4985-e467-24df9c187b25"
      },
      "execution_count": null,
      "outputs": [
        {
          "output_type": "stream",
          "name": "stdout",
          "text": [
            "2.0.3\n"
          ]
        }
      ]
    },
    {
      "cell_type": "markdown",
      "source": [
        "## 1. Prepare Data\n"
      ],
      "metadata": {
        "id": "1h_W105svXbh"
      }
    },
    {
      "cell_type": "code",
      "source": [],
      "metadata": {
        "id": "8Wqss7P-OO63"
      },
      "execution_count": null,
      "outputs": []
    },
    {
      "cell_type": "markdown",
      "source": [
        "## 2. Process Data\n"
      ],
      "metadata": {
        "id": "HdyGvDfVMCOB"
      }
    },
    {
      "cell_type": "code",
      "source": [],
      "metadata": {
        "id": "ndt9Kh3DOP_p"
      },
      "execution_count": null,
      "outputs": []
    }
  ]
}