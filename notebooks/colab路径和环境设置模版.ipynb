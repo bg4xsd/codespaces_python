{
  "nbformat": 4,
  "nbformat_minor": 0,
  "metadata": {
    "colab": {
      "provenance": [],
      "mount_file_id": "1EaaApR2KTVDeMPhCHifhHpWpF3lqwuNB",
      "authorship_tag": "ABX9TyMvsSy4UXeixtGw+prXzKvU",
      "include_colab_link": true
    },
    "kernelspec": {
      "name": "python3",
      "display_name": "Python 3"
    },
    "language_info": {
      "name": "python"
    }
  },
  "cells": [
    {
      "cell_type": "markdown",
      "metadata": {
        "id": "view-in-github",
        "colab_type": "text"
      },
      "source": [
        "<a href=\"https://colab.research.google.com/github/bg4xsd/codespaces_python_env/blob/main/colab%E8%B7%AF%E5%BE%84%E8%AE%BE%E7%BD%AE%E6%A8%A1%E7%89%88.ipynb\" target=\"_parent\"><img src=\"https://colab.research.google.com/assets/colab-badge.svg\" alt=\"Open In Colab\"/></a>"
      ]
    },
    {
      "cell_type": "markdown",
      "source": [
        "## 1. 每创建一个自己的的notebook，就需要加上下面这段代码\n",
        "这个步骤主要是将notebook， 第三方软件packages的安装目录做了一个短链接，\n",
        "如果不持久安装第三方软件的话， 也可以跳过第一步，在"
      ],
      "metadata": {
        "id": "nxLGstOWiqSp"
      }
    },
    {
      "cell_type": "code",
      "execution_count": 1,
      "metadata": {
        "colab": {
          "base_uri": "https://localhost:8080/"
        },
        "id": "JEnDtb4jiFl0",
        "outputId": "9474049f-9d26-40f1-b9ae-5c650c080441"
      },
      "outputs": [
        {
          "output_type": "stream",
          "name": "stdout",
          "text": [
            "Mounted at /content/gdrive\n",
            "/content/gdrive/My Drive/Colab Notebooks\n",
            "mkdir: cannot create directory ‘packages’: File exists\n",
            " colab工作环境设置.ipynb      \u001b[0m\u001b[01;34mpackages\u001b[0m/\n",
            " colab路径设置模版.ipynb      \u001b[01;34mpydata-book-3rd-edition\u001b[0m/\n",
            " \u001b[01;34mdata-science-from-scratch\u001b[0m/   \u001b[01;34mSoftware\u001b[0m/\n",
            " \u001b[01;34mhandson-ml2\u001b[0m/                 \u001b[01;34mTSA\u001b[0m/\n",
            " \u001b[01;34mhandson-ml3\u001b[0m/                ' 测试colab和github协同工作.ipynb'\n"
          ]
        }
      ],
      "source": [
        "# 在 gooogle colab 上面才需要运行\n",
        "# 自定义了短路径，方便安装软件， 初始化后，默认路径在 notebooks 目录里面\n",
        "\n",
        "import os, sys \n",
        "# 挂载google drive\n",
        "from google.colab import drive \n",
        "drive.mount('/content/gdrive') \n",
        "\n",
        "# 先建立一个 packages目录，用来安装缺失的软件库，如果已经存在则会告警，可忽视\n",
        "%cd '/content/gdrive/My Drive/Colab Notebooks'\n",
        "%mkdir packages\n",
        "%pwd\n",
        "%ls\n",
        " \n",
        "# 注意，只要 执行一次，重复执行会报错，可以通过检查变量确认，如果有了路径信息则可以继续\n",
        "nb_path = '/content/notebooks'  # 因为绝对路径太长，不方便使用，所以这里做个了个快捷链接\n",
        "os.symlink('/content/gdrive/My Drive/Colab Notebooks', nb_path)\n",
        "sys.path.insert(0, nb_path)  # or append(nb_path)\n",
        "pkgs_path = '/content/packages'  # 这里做个第三方软件包安装的持久化路径\n",
        "os.symlink('/content/gdrive/My Drive/Colab Notebooks/packages', pkgs_path)\n",
        "sys.path.append(pkgs_path)  # or append(nb_path)"
      ]
    },
    {
      "cell_type": "markdown",
      "source": [
        "## 2. 使用 pip 安装软件包"
      ],
      "metadata": {
        "id": "OdvR9y7tFJ-U"
      }
    },
    {
      "cell_type": "code",
      "source": [
        "# pip install -U -q # -U表示安装并升级， -q表示静默安装， 减少过程输出\n",
        "\n",
        "# 通常的标准安装命令，因为被安装的地方不能持久化，所以要修改安装的路径\n",
        "#!pip install -r requirements.txt\n",
        "# 如果没有这个 requirements.txt， 可以自己根据需要创建，也可以先复制github上的工程，\n",
        "# 再利用工程中的配置文件进行安装。特别注意这个库包列表文件所在的目录\n",
        "# 以 tsalab 为例，当前的路径在 notebooks, 是 tsalab的上一级目录，所以要这样写\n",
        "#!pip install --target=$pkgs_path -r ./tsalab/requirements.txt\n",
        "\n",
        "# 也可以根据需要，安装单个软件包，例如， pyecharts\n",
        "#!pip install -q --target=$pkgs_path pyecharts"
      ],
      "metadata": {
        "id": "YDtDMRaeFShb"
      },
      "execution_count": 2,
      "outputs": []
    },
    {
      "cell_type": "markdown",
      "source": [
        "# 3. 切换路径到当前正在运行的 notebook，而且把它所在的路径也加到默认搜索路径里面"
      ],
      "metadata": {
        "id": "1h_W105svXbh"
      }
    },
    {
      "cell_type": "code",
      "source": [
        "# 这个方法是找到当前文件所在的路径，确定就是如果用 driver，速度会慢些，不想 content目录那么快。\n",
        "# 另外， colab 无法返回 driver中 python代码的绝对路径，所以需要手动设置工作目录，\n",
        "# 否则， 在使用相对路径加载位于 dirver中的试验数据的时候，就会找不到。\n",
        "# 对于很多书本的课件，建议用这个方法，\n",
        "import os\n",
        "import sys\n",
        "# 如果不设置短路径的话，也可以直接挂载driver，然后写长路径，缺点是这个路径里面在 colab后面有个空格，\n",
        "# 为了安全最好用双引号，且在及其个别的情况下，会出现路径读取错误，所以建议还是用短路径的写法。\n",
        "# os.chdir(\"/content/gdrive/My Drive/Colab Notebooks/pydata-book-3rd-edition\")\n",
        "os.chdir('/content/notebooks/pydata-book-3rd-edition')\n",
        "sys.path.append('..')\n",
        "cwd = os.getcwd()\n",
        "print(cwd)"
      ],
      "metadata": {
        "id": "ONv_9DDF28tc",
        "colab": {
          "base_uri": "https://localhost:8080/"
        },
        "outputId": "b32aba95-e9a2-49c3-aebb-f87bf65fb054"
      },
      "execution_count": 4,
      "outputs": [
        {
          "output_type": "stream",
          "name": "stdout",
          "text": [
            "/content/gdrive/My Drive/Colab Notebooks/pydata-book-3rd-edition\n"
          ]
        }
      ]
    },
    {
      "cell_type": "code",
      "source": [
        "# 检查一下当前 python的版本， 可选\n",
        "import sys\n",
        "print(sys.version)"
      ],
      "metadata": {
        "colab": {
          "base_uri": "https://localhost:8080/"
        },
        "id": "gT1DfrdP7wfD",
        "outputId": "1f46964b-e650-4947-a086-8f7337dabdeb"
      },
      "execution_count": 5,
      "outputs": [
        {
          "output_type": "stream",
          "name": "stdout",
          "text": [
            "3.10.11 (main, Apr  5 2023, 14:15:10) [GCC 9.4.0]\n"
          ]
        }
      ]
    },
    {
      "cell_type": "code",
      "source": [
        "# 测试一下自己的python库是否被正常加载了， 可选\n",
        "import pyecharts\n",
        "print(pyecharts.__version__)\n"
      ],
      "metadata": {
        "colab": {
          "base_uri": "https://localhost:8080/"
        },
        "id": "teBT1qf9puJA",
        "outputId": "0039fccf-37d5-4985-e467-24df9c187b25"
      },
      "execution_count": 6,
      "outputs": [
        {
          "output_type": "stream",
          "name": "stdout",
          "text": [
            "2.0.3\n"
          ]
        }
      ]
    }
  ]
}
