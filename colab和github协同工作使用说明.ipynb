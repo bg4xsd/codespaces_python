{
  "nbformat": 4,
  "nbformat_minor": 0,
  "metadata": {
    "colab": {
      "provenance": [],
      "gpuType": "T4",
      "authorship_tag": "ABX9TyOtS0ehaL81zVc1VToL7ljF",
      "include_colab_link": true
    },
    "kernelspec": {
      "name": "python3",
      "display_name": "Python 3"
    },
    "language_info": {
      "name": "python"
    }
  },
  "cells": [
    {
      "cell_type": "markdown",
      "metadata": {
        "id": "view-in-github",
        "colab_type": "text"
      },
      "source": [
        "<a href=\"https://colab.research.google.com/github/bg4xsd/codespaces_python_env/blob/main/%E6%B5%8B%E8%AF%95colab%E5%92%8Cgithub%E5%8D%8F%E5%90%8C%E5%B7%A5%E4%BD%9C.ipynb\" target=\"_parent\"><img src=\"https://colab.research.google.com/assets/colab-badge.svg\" alt=\"Open In Colab\"/></a>"
      ]
    },
    {
      "cell_type": "markdown",
      "source": [
        "## 关于在colab中使用github工作的技巧\n",
        "\n",
        "小结： 在colab中打开github上的notebook，或者drive里面的notebook，干完活了在保存到github上。Kaggle和github联动的方法类似，需要使用 import notebook功能，再导入，工作结束后，在 save version那里提交到github上（需要提前 link to github）。 \n",
        "\n",
        "正宗官方文档: https://colab.research.google.com/github/googlecolab/colabtools/blob/master/notebooks/colab-github-demo.ipynb#scrollTo=K-NVg7RjyeTk\n",
        "\n",
        "管理 colab和ipynb的浏览器插件，可以让 colab打开github上的ipynb，挺好用：https://chrome.google.com/webstore/detail/open-in-colab/iogfkhleblhcpcekbiedikdehleodpjo/related\n",
        "\n",
        "有用的小插件， 防止 colab失联：https://chrome.google.com/webstore/detail/colab-alive/eookkckfbbgnhdgcbfbicoahejkdoele/related\n",
        "\n",
        "其他资料：\n",
        "https://zhuanlan.zhihu.com/p/396271940\n"
      ],
      "metadata": {
        "id": "m9jniUtpsqtg"
      }
    },
    {
      "cell_type": "markdown",
      "source": [
        "## 标准的挂在路径\n",
        "在Google Colab上面才需要运行。"
      ],
      "metadata": {
        "id": "CAHxKDmJkEqS"
      }
    },
    {
      "cell_type": "code",
      "execution_count": 2,
      "metadata": {
        "colab": {
          "base_uri": "https://localhost:8080/"
        },
        "id": "zLhXaFVZj4Ru",
        "outputId": "51e31ad1-7798-4eaa-c851-aaba16bc299f"
      },
      "outputs": [
        {
          "output_type": "stream",
          "name": "stdout",
          "text": [
            "Mounted at /content/gdrive\n"
          ]
        }
      ],
      "source": [
        "# 标准样例代码\n",
        "# from google.colab import drive\n",
        "# drive.mount('/content/gdrive')"
      ]
    },
    {
      "cell_type": "markdown",
      "source": [
        "## 自定义的挂载路径\n",
        "做个短路径和其他软件包的安装路径\n",
        "\n",
        "在Google Colab上面才需要运行。只要执行一次，第二次执行就会因为路径已经存在而报错，不过可以忽视掉。\n",
        "\n",
        "为项目创建了两个工作目录：\n",
        "\n",
        "1) notebooks 存放notebook, ipynb及相关文件\n",
        "\n",
        "2) packages 存放pip持久化安装的包,\n",
        "\n",
        "这里先在'/content/gdrive/My Drive/Colab Notebooks'目录下面建立一个子目录 packages， 方便后面进行目录链接使用。 如果重复执行会告警， 可以忽略。这个安装缺失软件包的目录必须放在gdrive这个网盘上，因为实例已关机就会清空conten目录下的东西。放在网盘上，下次只要加载使用即可。"
      ],
      "metadata": {
        "id": "DssKVYbtmvyr"
      }
    },
    {
      "cell_type": "code",
      "source": [
        "# 在 gooogle colab 上面才需要运行， 映射短目录，方便使用\n",
        "import os, sys \n",
        "# 挂载google drive\n",
        "from google.colab import drive \n",
        "drive.mount('/content/gdrive') \n",
        "\n",
        "# 先建立一个 packages目录，用来安装缺失的软件库，如果已经存在则会告警，可忽视\n",
        "%cd '/content/gdrive/My Drive/Colab Notebooks'\n",
        "%mkdir packages\n",
        "%pwd\n",
        "%ls\n",
        " \n",
        "nb_path = '/content/notebooks'  # 因为绝对路径太长，不方便使用，所以这里做个了个快捷链接\n",
        "os.symlink('/content/gdrive/My Drive/Colab Notebooks', nb_path)\n",
        "sys.path.insert(0, nb_path)  # or append(nb_path)\n",
        "pkgs_path = '/content/packages'  # 这里做个第三方软件包安装的持久化路径\n",
        "os.symlink('/content/gdrive/My Drive/Colab Notebooks/packages', pkgs_path)\n",
        "sys.path.append(pkgs_path)  # or append(nb_path)\n"
      ],
      "metadata": {
        "colab": {
          "base_uri": "https://localhost:8080/"
        },
        "id": "M3qCMdBlkzyf",
        "outputId": "164ab8de-b2d3-4c1e-c72d-0faa1770d57d"
      },
      "execution_count": 1,
      "outputs": [
        {
          "output_type": "stream",
          "name": "stdout",
          "text": [
            "Mounted at /content/gdrive\n",
            "/content/gdrive/My Drive/Colab Notebooks\n",
            "mkdir: cannot create directory ‘packages’: File exists\n",
            " colab工作环境设置.ipynb      \u001b[0m\u001b[01;34mpackages\u001b[0m/\n",
            " colab路径设置模版.ipynb      \u001b[01;34mpydata-book-3rd-edition\u001b[0m/\n",
            " \u001b[01;34mdata-science-from-scratch\u001b[0m/   \u001b[01;34mSoftware\u001b[0m/\n",
            " \u001b[01;34mhandson-ml2\u001b[0m/                 \u001b[01;34mTSA\u001b[0m/\n",
            " \u001b[01;34mhandson-ml3\u001b[0m/                ' 测试colab和github协同工作.ipynb'\n"
          ]
        }
      ]
    },
    {
      "cell_type": "markdown",
      "source": [
        "## 检查一下新创建的短路径, Python 环境， pip"
      ],
      "metadata": {
        "id": "xst6_8l7lwNN"
      }
    },
    {
      "cell_type": "code",
      "source": [
        "# 初始化路径后，检查环境,当前路径是在 /notebooks 下面\n",
        "!pwd"
      ],
      "metadata": {
        "colab": {
          "base_uri": "https://localhost:8080/"
        },
        "id": "jWYSvkQTCsj7",
        "outputId": "4a4b5a22-5dad-4586-ea16-3e36116c9376"
      },
      "execution_count": 8,
      "outputs": [
        {
          "output_type": "stream",
          "name": "stdout",
          "text": [
            "/content/gdrive/MyDrive/Colab Notebooks\n"
          ]
        }
      ]
    },
    {
      "cell_type": "code",
      "source": [
        "# 查看当前路径下的文件信息\n",
        "!ls "
      ],
      "metadata": {
        "colab": {
          "base_uri": "https://localhost:8080/"
        },
        "id": "6I1gogJek2M7",
        "outputId": "0297ec29-bd8b-45a9-a05e-e160dccdccf8"
      },
      "execution_count": 12,
      "outputs": [
        {
          "output_type": "stream",
          "name": "stdout",
          "text": [
            " colab工作环境设置.ipynb     packages\n",
            " colab路径设置模版.ipynb     pydata-book-3rd-edition\n",
            " data-science-from-scratch   Software\n",
            " handson-ml2\t\t     TSA\n",
            " handson-ml3\t\t    ' 测试colab和github协同工作.ipynb'\n"
          ]
        }
      ]
    },
    {
      "cell_type": "code",
      "source": [
        "# 开始安装自己的软件包是，先检查一下准备存放的路径是否正确\n",
        "# 这里是保存到pkgs_path\n",
        "print(pkgs_path)"
      ],
      "metadata": {
        "colab": {
          "base_uri": "https://localhost:8080/"
        },
        "id": "KuzJSMdxqE5z",
        "outputId": "7e3d475d-3210-4695-e268-0fcbf4e31643"
      },
      "execution_count": 13,
      "outputs": [
        {
          "output_type": "stream",
          "name": "stdout",
          "text": [
            "/content/packages\n"
          ]
        }
      ]
    },
    {
      "cell_type": "code",
      "source": [
        "import sys\n",
        "print(sys.version)"
      ],
      "metadata": {
        "colab": {
          "base_uri": "https://localhost:8080/"
        },
        "id": "WOFnFQboqK3y",
        "outputId": "d4dcaef2-b1d4-40b0-ba62-c4c2cd2be2e9"
      },
      "execution_count": 14,
      "outputs": [
        {
          "output_type": "stream",
          "name": "stdout",
          "text": [
            "3.10.11 (main, Apr  5 2023, 14:15:10) [GCC 9.4.0]\n"
          ]
        }
      ]
    },
    {
      "cell_type": "code",
      "source": [
        "# 检查已经安装库包的情况， 不过可以不看，直接安装需要进行安装\n",
        "# !pip list "
      ],
      "metadata": {
        "id": "hI9WzBPqqSGw"
      },
      "execution_count": null,
      "outputs": []
    },
    {
      "cell_type": "code",
      "source": [
        "# 通常的标准安装命令，因为被安装的地方不能持久化，所以要修改安装的路径\n",
        "#!pip install -r requirements.txt\n",
        "# 如果没有这个 requirements.txt， 可以自己根据需要创建，也可以先复制github上的工程，\n",
        "# 再利用工程中的配置文件进行安装。特别注意这个库包列表文件所在的目录\n",
        "# 以 tsalab 为例，当前的路径在 notebooks, 是 tsalab的上一级目录，所以要这样写\n",
        "#!pip install --target=$pkgs_path -r ./tsalab/requirements.txt\n",
        "\n",
        "# 也可以根据需要，安装单个软件包，例如， pyecharts\n",
        "#!pip install --target=$pkgs_path pyecharts"
      ],
      "metadata": {
        "id": "Tlq9duo7qdBo"
      },
      "execution_count": 16,
      "outputs": []
    },
    {
      "cell_type": "code",
      "source": [
        "# 加载自己指定的函数库是否正确，注意这里说明了函数库是放在 pkgs_path目录里面的，用append\n",
        "# 表示把路径拼接在最后。\n",
        "# 这里做个第三方软件包安装的持久化路径，如果没使用自定义的短路径，就用完整的路径信息代替\n",
        "import sys\n",
        "pkgs_path = '/content/packages'  \n",
        "sys.path.append(pkgs_path)  # or append(nb_path)\n",
        "\n",
        "import pyecharts\n",
        "print(pyecharts.__version__)\n",
        "\n",
        "# 有版本输出即表示可以正常工作，路径设置正确"
      ],
      "metadata": {
        "colab": {
          "base_uri": "https://localhost:8080/"
        },
        "id": "Jq1ssD-4Aw3O",
        "outputId": "45ff5df0-3c7c-43af-ab4d-9ee2b1e9d6b0"
      },
      "execution_count": 17,
      "outputs": [
        {
          "output_type": "stream",
          "name": "stdout",
          "text": [
            "2.0.3\n"
          ]
        }
      ]
    },
    {
      "cell_type": "markdown",
      "source": [
        "## 可以利用 git 命令来clone github 上的代码\n",
        "因为codespaces上面只有CPU计算资源，有的时候需要使用GPU，则可以快速将代码clone到colab或者kaggle上进行运行。 如果对某个notebook进行了修改，则可以利用File菜单中的 save a copy in github 这个选项，将被修改过的notebook代码保存到github上，这里不用 pull/push的思路进行代码管理。"
      ],
      "metadata": {
        "id": "zOGLpsoVoF29"
      }
    },
    {
      "cell_type": "code",
      "source": [
        "%cd ./notebooks/\n",
        "!pwd"
      ],
      "metadata": {
        "colab": {
          "base_uri": "https://localhost:8080/"
        },
        "id": "-VYrqCizo8Fk",
        "outputId": "ae947743-c482-4409-9410-d6235ded7e58"
      },
      "execution_count": null,
      "outputs": [
        {
          "output_type": "stream",
          "name": "stdout",
          "text": [
            "/content/gdrive/My Drive/Colab Notebooks\n",
            "/content/gdrive/My Drive/Colab Notebooks\n"
          ]
        }
      ]
    },
    {
      "cell_type": "code",
      "source": [
        "!git clone https://github.com/bg4xsd/tsalab.git"
      ],
      "metadata": {
        "colab": {
          "base_uri": "https://localhost:8080/"
        },
        "id": "1kq70TiFl6fT",
        "outputId": "fd80008c-4b3d-4488-d9fd-d98ca6f399ed"
      },
      "execution_count": null,
      "outputs": [
        {
          "output_type": "stream",
          "name": "stdout",
          "text": [
            "Cloning into 'tsalab'...\n",
            "remote: Enumerating objects: 1964, done.\u001b[K\n",
            "remote: Counting objects: 100% (52/52), done.\u001b[K\n",
            "remote: Compressing objects: 100% (37/37), done.\u001b[K\n",
            "remote: Total 1964 (delta 30), reused 32 (delta 14), pack-reused 1912\u001b[K\n",
            "Receiving objects: 100% (1964/1964), 594.27 MiB | 14.05 MiB/s, done.\n",
            "Resolving deltas: 100% (477/477), done.\n",
            "Updating files: 100% (453/453), done.\n"
          ]
        }
      ]
    },
    {
      "cell_type": "markdown",
      "source": [],
      "metadata": {
        "id": "J6lD3eEumnm8"
      }
    },
    {
      "cell_type": "markdown",
      "source": [
        "## 关于工作路径的注意事项\n",
        "\n",
        "对于clone得到的工程，具有其自己的目录，这时候需要进入到工程所在目录里面，否则工程内的代码相互依赖的路径可能会出错。"
      ],
      "metadata": {
        "id": "eZIfsgoavjzI"
      }
    },
    {
      "cell_type": "code",
      "source": [
        "# 运行过程中，如果使用 相对路径，最好切换到对应的目录里面\n",
        "# 原则上不采用在 content目录里面直接干活。\n",
        "\n",
        "# 方法一， 在notebook 的开头改变路径到这个notebook所在的路径， 对codespaces是有效的\n",
        "# import os\n",
        "# os.chdir(sys.path[0])\n",
        "# getcwd返回的路径不好用\n",
        "# print(\"Working directory  ->  %s\" % os.getcwd())\n",
        "# 这个命令会返回， 因为colab看的是当前这个ipynb的路径信息。\n",
        "# Working directory  ->  /content/gdrive/My Drive/Colab Notebooks\n",
        "\n",
        "# 方法二，利用系统命令进行路径切换，安全些，对colab是有效的\n",
        "%cd /content/notebooks/tsalab\n",
        "%pwd"
      ],
      "metadata": {
        "id": "4zURG45qv1aE",
        "colab": {
          "base_uri": "https://localhost:8080/"
        },
        "outputId": "cd60594c-dffe-4952-ab44-41dfacf7c6c1"
      },
      "execution_count": null,
      "outputs": [
        {
          "output_type": "stream",
          "name": "stdout",
          "text": [
            "/content/gdrive/My Drive/Colab Notebooks/tsalab\n",
            "/content/gdrive/My Drive/Colab Notebooks/tsalab\n"
          ]
        }
      ]
    },
    {
      "cell_type": "markdown",
      "source": [
        "## 关于 GPU的激活使用\n",
        "在 Runtime 菜单里面选择 change runtime tpye,里面找到 GPU，勾选，重启实例即可。"
      ],
      "metadata": {
        "id": "ZIVE0RE8vFXA"
      }
    },
    {
      "cell_type": "code",
      "source": [
        "# 如果你设置 notebook用 gpu加速，可以看看抢到了什么资源， 也可以直接用命令查看\n",
        "# !nvidia-smi\n",
        "gpu_info = !nvidia-smi\n",
        "gpu_info = '\\n'.join(gpu_info)\n",
        "if gpu_info.find('failed') >= 0:\n",
        "  print('Not connected to a GPU')\n",
        "else:\n",
        "  print(gpu_info)"
      ],
      "metadata": {
        "colab": {
          "base_uri": "https://localhost:8080/"
        },
        "id": "jrOPlLqbwHNa",
        "outputId": "32278068-2638-4ca7-e98b-cd6f00e95070"
      },
      "execution_count": null,
      "outputs": [
        {
          "output_type": "stream",
          "name": "stdout",
          "text": [
            "Sat Jun  3 15:03:15 2023       \n",
            "+-----------------------------------------------------------------------------+\n",
            "| NVIDIA-SMI 525.85.12    Driver Version: 525.85.12    CUDA Version: 12.0     |\n",
            "|-------------------------------+----------------------+----------------------+\n",
            "| GPU  Name        Persistence-M| Bus-Id        Disp.A | Volatile Uncorr. ECC |\n",
            "| Fan  Temp  Perf  Pwr:Usage/Cap|         Memory-Usage | GPU-Util  Compute M. |\n",
            "|                               |                      |               MIG M. |\n",
            "|===============================+======================+======================|\n",
            "|   0  Tesla T4            Off  | 00000000:00:04.0 Off |                    0 |\n",
            "| N/A   58C    P8    12W /  70W |      0MiB / 15360MiB |      0%      Default |\n",
            "|                               |                      |                  N/A |\n",
            "+-------------------------------+----------------------+----------------------+\n",
            "                                                                               \n",
            "+-----------------------------------------------------------------------------+\n",
            "| Processes:                                                                  |\n",
            "|  GPU   GI   CI        PID   Type   Process name                  GPU Memory |\n",
            "|        ID   ID                                                   Usage      |\n",
            "|=============================================================================|\n",
            "|  No running processes found                                                 |\n",
            "+-----------------------------------------------------------------------------+\n"
          ]
        }
      ]
    },
    {
      "cell_type": "code",
      "source": [
        "# 检查 TensorFlow 是否可以使用\n",
        "import tensorflow as tf\n",
        "print(tf.test.is_gpu_available())\n",
        "tf.config.list_physical_devices('GPU')"
      ],
      "metadata": {
        "colab": {
          "base_uri": "https://localhost:8080/"
        },
        "id": "pgCV690KycUh",
        "outputId": "f49f0578-42c6-462a-9989-d13e0699343b"
      },
      "execution_count": null,
      "outputs": [
        {
          "output_type": "stream",
          "name": "stderr",
          "text": [
            "WARNING:tensorflow:From <ipython-input-3-351733151246>:2: is_gpu_available (from tensorflow.python.framework.test_util) is deprecated and will be removed in a future version.\n",
            "Instructions for updating:\n",
            "Use `tf.config.list_physical_devices('GPU')` instead.\n"
          ]
        },
        {
          "output_type": "stream",
          "name": "stdout",
          "text": [
            "True\n"
          ]
        },
        {
          "output_type": "execute_result",
          "data": {
            "text/plain": [
              "[PhysicalDevice(name='/physical_device:GPU:0', device_type='GPU')]"
            ]
          },
          "metadata": {},
          "execution_count": 3
        }
      ]
    },
    {
      "cell_type": "code",
      "source": [
        "# 检查 pytorch 是否可以工作\n",
        "import torch\n",
        "flag = torch.cuda.is_available()\n",
        "print(flag)\n",
        "\n",
        "ngpu= 1\n",
        "# Decide which device we want to run on\n",
        "device = torch.device(\"cuda:0\" if (torch.cuda.is_available() and ngpu > 0) else \"cpu\")\n",
        "print(device)\n",
        "print(torch.cuda.get_device_name(0))\n",
        "print(torch.rand(3,3).cuda()) \n"
      ],
      "metadata": {
        "colab": {
          "base_uri": "https://localhost:8080/"
        },
        "id": "9euvnLdIysf0",
        "outputId": "1b59754e-b2c8-473b-e209-fabfd15fdb30"
      },
      "execution_count": null,
      "outputs": [
        {
          "output_type": "stream",
          "name": "stdout",
          "text": [
            "True\n",
            "cuda:0\n",
            "Tesla T4\n",
            "tensor([[0.4064, 0.0830, 0.5994],\n",
            "        [0.1985, 0.2124, 0.6312],\n",
            "        [0.7395, 0.9536, 0.3004]], device='cuda:0')\n"
          ]
        }
      ]
    }
  ]
}
